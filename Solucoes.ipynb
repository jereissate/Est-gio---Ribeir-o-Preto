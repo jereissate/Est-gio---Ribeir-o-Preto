{
  "nbformat": 4,
  "nbformat_minor": 0,
  "metadata": {
    "colab": {
      "provenance": [],
      "toc_visible": true
    },
    "kernelspec": {
      "name": "python3",
      "display_name": "Python 3"
    },
    "language_info": {
      "name": "python"
    }
  },
  "cells": [
    {
      "cell_type": "markdown",
      "source": [
        "# Soluções dos Problemas"
      ],
      "metadata": {
        "id": "glFAwbF1JqA3"
      }
    },
    {
      "cell_type": "markdown",
      "source": [
        "## 1. Fibonacci"
      ],
      "metadata": {
        "id": "ZtzmnreZrcGM"
      }
    },
    {
      "cell_type": "code",
      "source": [
        "import math\n",
        "\n",
        "# Funcao para saber se numero é quadrado perfeito\n",
        "def quadrado_perfeito(num):\n",
        "  raiz = int(math.sqrt(num))\n",
        "  return raiz * raiz == num\n",
        "\n",
        "# Funcao de fibonacci\n",
        "def fibonacci(n):\n",
        "  # Será de fibonacci se o calculo de uma dessas equacoes for quadrado perfeito\n",
        "  return quadrado_perfeito((5*n*n)+4) or quadrado_perfeito((5*n*n)-4)\n",
        "\n",
        "# Teste\n",
        "number = int(input(\"Digite um número: \"))\n",
        "if fibonacci(number):\n",
        "    print(f\"{number} pertence à sequência de Fibonacci.\")\n",
        "else:\n",
        "    print(f\"{number} não pertence à sequência de Fibonacci.\")\n"
      ],
      "metadata": {
        "id": "o6rv1BIApw6D"
      },
      "execution_count": null,
      "outputs": []
    },
    {
      "cell_type": "markdown",
      "source": [
        "## 2. Contador de A"
      ],
      "metadata": {
        "id": "SND0kNmNJ24i"
      }
    },
    {
      "cell_type": "code",
      "source": [
        "def contador_de_a(string):\n",
        "  cont = 0\n",
        "  i = 0\n",
        "  while i < len(string) :\n",
        "    if string[i] == 'a' or string[i]=='A':\n",
        "      cont+=1\n",
        "    i+=1\n",
        "  return cont\n",
        "\n",
        "\n",
        "# Entranda da string\n",
        "texto = input(\"Digite uma string: \")\n",
        "\n",
        "# Verificar se existe 'a' na string e se houver, quantos tem\n",
        "quantidade = contador_de_a(texto)\n",
        "\n",
        "if quantidade > 0:\n",
        "    print(f\"A letra 'a' aparece {quantidade} vezes na string.\")\n",
        "else:\n",
        "    print(\"A letra 'a' não foi encontrada na string.\")\n"
      ],
      "metadata": {
        "id": "OS2jYvEExKJQ"
      },
      "execution_count": null,
      "outputs": []
    },
    {
      "cell_type": "markdown",
      "source": [
        "## 3. Resultado valor de SOMA"
      ],
      "metadata": {
        "id": "o9sSDihK2cAK"
      }
    },
    {
      "cell_type": "code",
      "source": [
        "# Declarando variaveis\n",
        "INDICE = 12\n",
        "SOMA = 0\n",
        "K = 1\n",
        "\n",
        "# Loop enquanto verdade\n",
        "while K < INDICE :\n",
        "  # Soma de K para SOMA e depois incrementando K\n",
        "  SOMA = SOMA + K\n",
        "  K = K + 1\n",
        "\n",
        "# Imprimindo valor\n",
        "print(f\"Valor da variavel SOMA: {SOMA}\")"
      ],
      "metadata": {
        "id": "hwkGc_bZ2c_H"
      },
      "execution_count": null,
      "outputs": []
    },
    {
      "cell_type": "markdown",
      "source": [
        "## 4. Descubra a lógica e complete o próximo elemento:\n",
        "| Valores iniciais | Resultado |\n",
        "|---|---|\n",
        "|a) 1, 3, 5, 7,| **9**|\n",
        "|b) 2, 4, 8, 16, 32, 64,| **128**|\n",
        "|c) 0, 1, 4, 9, 16, 25, 36,| **49**|\n",
        "|d) 4, 16, 36, 64,| **100**|\n",
        "|e) 1, 1, 2, 3, 5, 8,| **13**|\n",
        "|f) 2, 10, 12, 16, 17, 18, 19,| **20**|"
      ],
      "metadata": {
        "id": "pAI65-i-64rz"
      }
    },
    {
      "cell_type": "markdown",
      "source": [
        "## 5) Qual interruptor controla cada lâmpada\n",
        "\n",
        "- Primeiro iria descobrir qual interruptor é da sala em que eu estou (chamar sala 1 e o interruptor foi o 1).\n",
        "- Depois disso escolheria um dos dois outros interruptores(interruptor 2), se o interruptor não mostrar que a luz está ligada assim que eu apertasse eu iria em outra sala(exemplo sala 3) para ver se a luz estava acesa.\n",
        "- Se não estivesse, eu voltava para a sala inicial(sala 1) e apertava novamente o ultimo interruptor pressionado(interruptor 2).\n",
        "- Depois disso iria novamente para a outra sala(sala 3) e se a luz não estivesse acesa então seria:\n",
        "  - sala 1 - interruptor 1; sala 2 - interruptor 2; sala 3 - interruptor 3\n",
        "\n",
        "- Se o interruptor 2 acendesse a sala 3 então seria:\n",
        "\n",
        "  - sala 1 - interruptor 1; sala 2 - interruptor 3; sala 3 - interruptor 2"
      ],
      "metadata": {
        "id": "Ru-Ic0x6-I0s"
      }
    }
  ]
}